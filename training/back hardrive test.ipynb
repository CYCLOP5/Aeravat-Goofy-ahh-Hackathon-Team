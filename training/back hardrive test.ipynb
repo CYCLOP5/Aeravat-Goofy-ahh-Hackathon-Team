{
 "cells": [
  {
   "cell_type": "code",
   "execution_count": 2,
   "id": "0030b1a5",
   "metadata": {
    "_cell_guid": "b1076dfc-b9ad-4769-8c92-a6c4dae69d19",
    "_uuid": "8f2839f25d086af736a60e9eeb907d3b93b6e0e5",
    "execution": {
     "iopub.execute_input": "2021-11-14T17:34:03.286194Z",
     "iopub.status.busy": "2021-11-14T17:34:03.284458Z",
     "iopub.status.idle": "2021-11-14T17:34:03.305311Z",
     "shell.execute_reply": "2021-11-14T17:34:03.305988Z",
     "shell.execute_reply.started": "2021-11-14T10:03:02.165451Z"
    },
    "papermill": {
     "duration": 0.044846,
     "end_time": "2021-11-14T17:34:03.306316",
     "exception": false,
     "start_time": "2021-11-14T17:34:03.261470",
     "status": "completed"
    },
    "tags": []
   },
   "outputs": [],
   "source": [
    "\n",
    "import numpy as np \n",
    "import pandas as pd \n",
    "\n",
    "\n"
   ]
  },
  {
   "cell_type": "code",
   "execution_count": 3,
   "id": "3c99c26e",
   "metadata": {
    "execution": {
     "iopub.execute_input": "2021-11-14T17:34:03.464095Z",
     "iopub.status.busy": "2021-11-14T17:34:03.463389Z",
     "iopub.status.idle": "2021-11-14T17:34:04.559787Z",
     "shell.execute_reply": "2021-11-14T17:34:04.559230Z",
     "shell.execute_reply.started": "2021-11-14T10:03:02.178487Z"
    },
    "papermill": {
     "duration": 1.117366,
     "end_time": "2021-11-14T17:34:04.559927",
     "exception": false,
     "start_time": "2021-11-14T17:34:03.442561",
     "status": "completed"
    },
    "tags": []
   },
   "outputs": [],
   "source": [
    "from sklearn.model_selection import train_test_split\n",
    "import numpy as np\n",
    "import pandas as pd\n",
    "import matplotlib.pyplot as plt\n",
    "import seaborn as sns\n",
    "from sklearn.metrics import classification_report\n",
    "from sklearn.metrics import confusion_matrix"
   ]
  },
  {
   "cell_type": "markdown",
   "id": "74eb5d90",
   "metadata": {
    "papermill": {
     "duration": 0.017096,
     "end_time": "2021-11-14T17:34:04.595273",
     "exception": false,
     "start_time": "2021-11-14T17:34:04.578177",
     "status": "completed"
    },
    "tags": []
   },
   "source": [
    "# 📂 Loading dataset"
   ]
  },
  {
   "cell_type": "code",
   "execution_count": 4,
   "id": "9f552da2",
   "metadata": {
    "execution": {
     "iopub.execute_input": "2021-11-14T17:34:04.633367Z",
     "iopub.status.busy": "2021-11-14T17:34:04.632465Z",
     "iopub.status.idle": "2021-11-14T17:34:46.570155Z",
     "shell.execute_reply": "2021-11-14T17:34:46.569669Z",
     "shell.execute_reply.started": "2021-11-14T10:03:02.191239Z"
    },
    "papermill": {
     "duration": 41.957814,
     "end_time": "2021-11-14T17:34:46.570298",
     "exception": false,
     "start_time": "2021-11-14T17:34:04.612484",
     "status": "completed"
    },
    "tags": []
   },
   "outputs": [
    {
     "name": "stdout",
     "output_type": "stream",
     "text": [
      "(3179295, 95)\n"
     ]
    },
    {
     "data": {
      "text/html": [
       "<div>\n",
       "<style scoped>\n",
       "    .dataframe tbody tr th:only-of-type {\n",
       "        vertical-align: middle;\n",
       "    }\n",
       "\n",
       "    .dataframe tbody tr th {\n",
       "        vertical-align: top;\n",
       "    }\n",
       "\n",
       "    .dataframe thead th {\n",
       "        text-align: right;\n",
       "    }\n",
       "</style>\n",
       "<table border=\"1\" class=\"dataframe\">\n",
       "  <thead>\n",
       "    <tr style=\"text-align: right;\">\n",
       "      <th></th>\n",
       "      <th>date</th>\n",
       "      <th>serial_number</th>\n",
       "      <th>model</th>\n",
       "      <th>capacity_bytes</th>\n",
       "      <th>failure</th>\n",
       "      <th>smart_1_normalized</th>\n",
       "      <th>smart_1_raw</th>\n",
       "      <th>smart_2_normalized</th>\n",
       "      <th>smart_2_raw</th>\n",
       "      <th>smart_3_normalized</th>\n",
       "      <th>...</th>\n",
       "      <th>smart_250_normalized</th>\n",
       "      <th>smart_250_raw</th>\n",
       "      <th>smart_251_normalized</th>\n",
       "      <th>smart_251_raw</th>\n",
       "      <th>smart_252_normalized</th>\n",
       "      <th>smart_252_raw</th>\n",
       "      <th>smart_254_normalized</th>\n",
       "      <th>smart_254_raw</th>\n",
       "      <th>smart_255_normalized</th>\n",
       "      <th>smart_255_raw</th>\n",
       "    </tr>\n",
       "  </thead>\n",
       "  <tbody>\n",
       "    <tr>\n",
       "      <th>0</th>\n",
       "      <td>2016-01-01</td>\n",
       "      <td>MJ0351YNG9Z0XA</td>\n",
       "      <td>Hitachi HDS5C3030ALA630</td>\n",
       "      <td>1.482490e-311</td>\n",
       "      <td>0</td>\n",
       "      <td>100</td>\n",
       "      <td>0</td>\n",
       "      <td>135.0</td>\n",
       "      <td>108.0</td>\n",
       "      <td>143</td>\n",
       "      <td>...</td>\n",
       "      <td>NaN</td>\n",
       "      <td>NaN</td>\n",
       "      <td>NaN</td>\n",
       "      <td>NaN</td>\n",
       "      <td>NaN</td>\n",
       "      <td>NaN</td>\n",
       "      <td>NaN</td>\n",
       "      <td>NaN</td>\n",
       "      <td>NaN</td>\n",
       "      <td>NaN</td>\n",
       "    </tr>\n",
       "    <tr>\n",
       "      <th>1</th>\n",
       "      <td>2016-01-01</td>\n",
       "      <td>Z305B2QN</td>\n",
       "      <td>ST4000DM000</td>\n",
       "      <td>1.976651e-311</td>\n",
       "      <td>0</td>\n",
       "      <td>113</td>\n",
       "      <td>54551400</td>\n",
       "      <td>NaN</td>\n",
       "      <td>NaN</td>\n",
       "      <td>96</td>\n",
       "      <td>...</td>\n",
       "      <td>NaN</td>\n",
       "      <td>NaN</td>\n",
       "      <td>NaN</td>\n",
       "      <td>NaN</td>\n",
       "      <td>NaN</td>\n",
       "      <td>NaN</td>\n",
       "      <td>NaN</td>\n",
       "      <td>NaN</td>\n",
       "      <td>NaN</td>\n",
       "      <td>NaN</td>\n",
       "    </tr>\n",
       "    <tr>\n",
       "      <th>2</th>\n",
       "      <td>2016-01-01</td>\n",
       "      <td>MJ0351YNG9Z7LA</td>\n",
       "      <td>Hitachi HDS5C3030ALA630</td>\n",
       "      <td>1.482490e-311</td>\n",
       "      <td>0</td>\n",
       "      <td>100</td>\n",
       "      <td>0</td>\n",
       "      <td>136.0</td>\n",
       "      <td>104.0</td>\n",
       "      <td>124</td>\n",
       "      <td>...</td>\n",
       "      <td>NaN</td>\n",
       "      <td>NaN</td>\n",
       "      <td>NaN</td>\n",
       "      <td>NaN</td>\n",
       "      <td>NaN</td>\n",
       "      <td>NaN</td>\n",
       "      <td>NaN</td>\n",
       "      <td>NaN</td>\n",
       "      <td>NaN</td>\n",
       "      <td>NaN</td>\n",
       "    </tr>\n",
       "    <tr>\n",
       "      <th>3</th>\n",
       "      <td>2016-01-01</td>\n",
       "      <td>MJ0351YNGABYAA</td>\n",
       "      <td>Hitachi HDS5C3030ALA630</td>\n",
       "      <td>1.482490e-311</td>\n",
       "      <td>0</td>\n",
       "      <td>100</td>\n",
       "      <td>0</td>\n",
       "      <td>136.0</td>\n",
       "      <td>104.0</td>\n",
       "      <td>137</td>\n",
       "      <td>...</td>\n",
       "      <td>NaN</td>\n",
       "      <td>NaN</td>\n",
       "      <td>NaN</td>\n",
       "      <td>NaN</td>\n",
       "      <td>NaN</td>\n",
       "      <td>NaN</td>\n",
       "      <td>NaN</td>\n",
       "      <td>NaN</td>\n",
       "      <td>NaN</td>\n",
       "      <td>NaN</td>\n",
       "    </tr>\n",
       "    <tr>\n",
       "      <th>4</th>\n",
       "      <td>2016-01-01</td>\n",
       "      <td>WD-WMC4N2899475</td>\n",
       "      <td>WDC WD30EFRX</td>\n",
       "      <td>1.482490e-311</td>\n",
       "      <td>0</td>\n",
       "      <td>200</td>\n",
       "      <td>0</td>\n",
       "      <td>NaN</td>\n",
       "      <td>NaN</td>\n",
       "      <td>175</td>\n",
       "      <td>...</td>\n",
       "      <td>NaN</td>\n",
       "      <td>NaN</td>\n",
       "      <td>NaN</td>\n",
       "      <td>NaN</td>\n",
       "      <td>NaN</td>\n",
       "      <td>NaN</td>\n",
       "      <td>NaN</td>\n",
       "      <td>NaN</td>\n",
       "      <td>NaN</td>\n",
       "      <td>NaN</td>\n",
       "    </tr>\n",
       "  </tbody>\n",
       "</table>\n",
       "<p>5 rows × 95 columns</p>\n",
       "</div>"
      ],
      "text/plain": [
       "         date    serial_number                    model  capacity_bytes  \\\n",
       "0  2016-01-01   MJ0351YNG9Z0XA  Hitachi HDS5C3030ALA630   1.482490e-311   \n",
       "1  2016-01-01         Z305B2QN              ST4000DM000   1.976651e-311   \n",
       "2  2016-01-01   MJ0351YNG9Z7LA  Hitachi HDS5C3030ALA630   1.482490e-311   \n",
       "3  2016-01-01   MJ0351YNGABYAA  Hitachi HDS5C3030ALA630   1.482490e-311   \n",
       "4  2016-01-01  WD-WMC4N2899475             WDC WD30EFRX   1.482490e-311   \n",
       "\n",
       "   failure  smart_1_normalized  smart_1_raw  smart_2_normalized  smart_2_raw  \\\n",
       "0        0                 100            0               135.0        108.0   \n",
       "1        0                 113     54551400                 NaN          NaN   \n",
       "2        0                 100            0               136.0        104.0   \n",
       "3        0                 100            0               136.0        104.0   \n",
       "4        0                 200            0                 NaN          NaN   \n",
       "\n",
       "   smart_3_normalized  ...  smart_250_normalized  smart_250_raw  \\\n",
       "0                 143  ...                   NaN            NaN   \n",
       "1                  96  ...                   NaN            NaN   \n",
       "2                 124  ...                   NaN            NaN   \n",
       "3                 137  ...                   NaN            NaN   \n",
       "4                 175  ...                   NaN            NaN   \n",
       "\n",
       "   smart_251_normalized  smart_251_raw  smart_252_normalized  smart_252_raw  \\\n",
       "0                   NaN            NaN                   NaN            NaN   \n",
       "1                   NaN            NaN                   NaN            NaN   \n",
       "2                   NaN            NaN                   NaN            NaN   \n",
       "3                   NaN            NaN                   NaN            NaN   \n",
       "4                   NaN            NaN                   NaN            NaN   \n",
       "\n",
       "   smart_254_normalized  smart_254_raw  smart_255_normalized  smart_255_raw  \n",
       "0                   NaN            NaN                   NaN            NaN  \n",
       "1                   NaN            NaN                   NaN            NaN  \n",
       "2                   NaN            NaN                   NaN            NaN  \n",
       "3                   NaN            NaN                   NaN            NaN  \n",
       "4                   NaN            NaN                   NaN            NaN  \n",
       "\n",
       "[5 rows x 95 columns]"
      ]
     },
     "execution_count": 4,
     "metadata": {},
     "output_type": "execute_result"
    }
   ],
   "source": [
    "df = pd.read_csv('data/harddrive.csv')\n",
    "print(df.shape)\n",
    "df.head()"
   ]
  },
  {
   "cell_type": "code",
   "execution_count": 5,
   "id": "5b566209",
   "metadata": {
    "execution": {
     "iopub.execute_input": "2021-11-14T17:34:46.609929Z",
     "iopub.status.busy": "2021-11-14T17:34:46.608970Z",
     "iopub.status.idle": "2021-11-14T17:34:48.029036Z",
     "shell.execute_reply": "2021-11-14T17:34:48.029460Z",
     "shell.execute_reply.started": "2021-11-14T10:03:31.963503Z"
    },
    "papermill": {
     "duration": 1.441417,
     "end_time": "2021-11-14T17:34:48.029663",
     "exception": false,
     "start_time": "2021-11-14T17:34:46.588246",
     "status": "completed"
    },
    "tags": []
   },
   "outputs": [
    {
     "name": "stdout",
     "output_type": "stream",
     "text": [
      "(3179295, 91)\n"
     ]
    }
   ],
   "source": [
    "df = df.loc[:, ~df.isnull().all()]\n",
    "print(df.shape)"
   ]
  },
  {
   "cell_type": "code",
   "execution_count": 6,
   "id": "ec81b0ae",
   "metadata": {
    "execution": {
     "iopub.execute_input": "2021-11-14T17:34:48.810465Z",
     "iopub.status.busy": "2021-11-14T17:34:48.809786Z",
     "iopub.status.idle": "2021-11-14T17:34:49.037059Z",
     "shell.execute_reply": "2021-11-14T17:34:49.036428Z",
     "shell.execute_reply.started": "2021-11-14T10:03:33.379151Z"
    },
    "papermill": {
     "duration": 0.989354,
     "end_time": "2021-11-14T17:34:49.037197",
     "exception": false,
     "start_time": "2021-11-14T17:34:48.047843",
     "status": "completed"
    },
    "tags": []
   },
   "outputs": [
    {
     "name": "stdout",
     "output_type": "stream",
     "text": [
      "no of hdd: (65993,)\n",
      "no of different hdd (69,)\n"
     ]
    }
   ],
   "source": [
    "print(\"no of hdd:\", df['serial_number'].value_counts().shape) \n",
    "\n",
    "print(\"no of different hdd\", df['model'].value_counts().shape)"
   ]
  },
  {
   "cell_type": "code",
   "execution_count": 7,
   "id": "36367007",
   "metadata": {
    "execution": {
     "iopub.execute_input": "2021-11-14T17:34:49.082901Z",
     "iopub.status.busy": "2021-11-14T17:34:49.081801Z",
     "iopub.status.idle": "2021-11-14T17:34:49.093959Z",
     "shell.execute_reply": "2021-11-14T17:34:49.093220Z",
     "shell.execute_reply.started": "2021-11-14T10:03:34.314902Z"
    },
    "papermill": {
     "duration": 0.038404,
     "end_time": "2021-11-14T17:34:49.094123",
     "exception": false,
     "start_time": "2021-11-14T17:34:49.055719",
     "status": "completed"
    },
    "tags": []
   },
   "outputs": [
    {
     "data": {
      "text/plain": [
       "215"
      ]
     },
     "execution_count": 7,
     "metadata": {},
     "output_type": "execute_result"
    }
   ],
   "source": [
    "failed_hdds = df.loc[df.failure==1][\"serial_number\"]\n",
    "len(failed_hdds)"
   ]
  },
  {
   "cell_type": "code",
   "execution_count": 8,
   "id": "8f929c52",
   "metadata": {
    "execution": {
     "iopub.execute_input": "2021-11-14T17:34:49.267355Z",
     "iopub.status.busy": "2021-11-14T17:34:49.266397Z",
     "iopub.status.idle": "2021-11-14T17:34:49.323514Z",
     "shell.execute_reply": "2021-11-14T17:34:49.324019Z",
     "shell.execute_reply.started": "2021-11-14T10:03:34.334203Z"
    },
    "papermill": {
     "duration": 0.210841,
     "end_time": "2021-11-14T17:34:49.324199",
     "exception": false,
     "start_time": "2021-11-14T17:34:49.113358",
     "status": "completed"
    },
    "tags": []
   },
   "outputs": [
    {
     "data": {
      "text/plain": [
       "(5490, 91)"
      ]
     },
     "execution_count": 8,
     "metadata": {},
     "output_type": "execute_result"
    }
   ],
   "source": [
    "df = df.loc[df[\"serial_number\"].isin(failed_hdds)]\n",
    "df.shape"
   ]
  },
  {
   "cell_type": "code",
   "execution_count": 9,
   "id": "e152cad2",
   "metadata": {
    "execution": {
     "iopub.execute_input": "2021-11-14T17:34:49.430400Z",
     "iopub.status.busy": "2021-11-14T17:34:49.429337Z",
     "iopub.status.idle": "2021-11-14T17:34:49.451948Z",
     "shell.execute_reply": "2021-11-14T17:34:49.452401Z",
     "shell.execute_reply.started": "2021-11-14T10:03:34.537022Z"
    },
    "papermill": {
     "duration": 0.059645,
     "end_time": "2021-11-14T17:34:49.452591",
     "exception": false,
     "start_time": "2021-11-14T17:34:49.392946",
     "status": "completed"
    },
    "tags": []
   },
   "outputs": [],
   "source": [
    "df[\"end_date\"] = df.groupby(\"serial_number\")[\"date\"].transform(\"max\")"
   ]
  },
  {
   "cell_type": "code",
   "execution_count": 10,
   "id": "d635342a",
   "metadata": {
    "execution": {
     "iopub.execute_input": "2021-11-14T17:34:49.502666Z",
     "iopub.status.busy": "2021-11-14T17:34:49.495793Z",
     "iopub.status.idle": "2021-11-14T17:34:49.508260Z",
     "shell.execute_reply": "2021-11-14T17:34:49.508704Z",
     "shell.execute_reply.started": "2021-11-14T10:03:34.572373Z"
    },
    "papermill": {
     "duration": 0.036616,
     "end_time": "2021-11-14T17:34:49.508881",
     "exception": false,
     "start_time": "2021-11-14T17:34:49.472265",
     "status": "completed"
    },
    "tags": []
   },
   "outputs": [],
   "source": [
    "df[\"end_date\"] = pd.to_datetime(df[\"end_date\"])\n",
    "df[\"date\"] = pd.to_datetime(df[\"date\"])"
   ]
  },
  {
   "cell_type": "code",
   "execution_count": 11,
   "id": "46eface4",
   "metadata": {
    "execution": {
     "iopub.execute_input": "2021-11-14T17:34:49.550085Z",
     "iopub.status.busy": "2021-11-14T17:34:49.549127Z",
     "iopub.status.idle": "2021-11-14T17:34:49.561887Z",
     "shell.execute_reply": "2021-11-14T17:34:49.562305Z",
     "shell.execute_reply.started": "2021-11-14T10:03:34.586684Z"
    },
    "papermill": {
     "duration": 0.034975,
     "end_time": "2021-11-14T17:34:49.562473",
     "exception": false,
     "start_time": "2021-11-14T17:34:49.527498",
     "status": "completed"
    },
    "tags": []
   },
   "outputs": [
    {
     "data": {
      "text/plain": [
       "count                          5490\n",
       "mean     49 days 09:18:25.573770492\n",
       "std      44 days 09:17:21.395230515\n",
       "min                 0 days 00:00:00\n",
       "25%                 7 days 00:00:00\n",
       "50%                21 days 00:00:00\n",
       "75%                95 days 00:00:00\n",
       "max               119 days 00:00:00\n",
       "Name: date_diff, dtype: object"
      ]
     },
     "execution_count": 11,
     "metadata": {},
     "output_type": "execute_result"
    }
   ],
   "source": [
    "df[\"date_diff\"] = df[\"end_date\"] - df[\"date\"]\n",
    "df[\"date_diff\"].describe()"
   ]
  },
  {
   "cell_type": "code",
   "execution_count": 12,
   "id": "39c2a4ee",
   "metadata": {
    "execution": {
     "iopub.execute_input": "2021-11-14T17:34:49.603751Z",
     "iopub.status.busy": "2021-11-14T17:34:49.602823Z",
     "iopub.status.idle": "2021-11-14T17:34:49.625909Z",
     "shell.execute_reply": "2021-11-14T17:34:49.626327Z",
     "shell.execute_reply.started": "2021-11-14T10:03:34.602078Z"
    },
    "papermill": {
     "duration": 0.045227,
     "end_time": "2021-11-14T17:34:49.626501",
     "exception": false,
     "start_time": "2021-11-14T17:34:49.581274",
     "status": "completed"
    },
    "tags": []
   },
   "outputs": [
    {
     "data": {
      "text/html": [
       "<div>\n",
       "<style scoped>\n",
       "    .dataframe tbody tr th:only-of-type {\n",
       "        vertical-align: middle;\n",
       "    }\n",
       "\n",
       "    .dataframe tbody tr th {\n",
       "        vertical-align: top;\n",
       "    }\n",
       "\n",
       "    .dataframe thead th {\n",
       "        text-align: right;\n",
       "    }\n",
       "</style>\n",
       "<table border=\"1\" class=\"dataframe\">\n",
       "  <thead>\n",
       "    <tr style=\"text-align: right;\">\n",
       "      <th></th>\n",
       "      <th>date</th>\n",
       "      <th>serial_number</th>\n",
       "      <th>model</th>\n",
       "      <th>capacity_bytes</th>\n",
       "      <th>failure</th>\n",
       "      <th>smart_1_normalized</th>\n",
       "      <th>smart_1_raw</th>\n",
       "      <th>smart_2_normalized</th>\n",
       "      <th>smart_2_raw</th>\n",
       "      <th>smart_3_normalized</th>\n",
       "      <th>...</th>\n",
       "      <th>smart_250_normalized</th>\n",
       "      <th>smart_250_raw</th>\n",
       "      <th>smart_251_normalized</th>\n",
       "      <th>smart_251_raw</th>\n",
       "      <th>smart_252_normalized</th>\n",
       "      <th>smart_252_raw</th>\n",
       "      <th>smart_254_normalized</th>\n",
       "      <th>smart_254_raw</th>\n",
       "      <th>end_date</th>\n",
       "      <th>date_diff</th>\n",
       "    </tr>\n",
       "  </thead>\n",
       "  <tbody>\n",
       "    <tr>\n",
       "      <th>376</th>\n",
       "      <td>2016-01-01</td>\n",
       "      <td>Z300ZST1</td>\n",
       "      <td>ST4000DM000</td>\n",
       "      <td>1.976651e-311</td>\n",
       "      <td>0</td>\n",
       "      <td>120</td>\n",
       "      <td>240872800</td>\n",
       "      <td>NaN</td>\n",
       "      <td>NaN</td>\n",
       "      <td>91</td>\n",
       "      <td>...</td>\n",
       "      <td>NaN</td>\n",
       "      <td>NaN</td>\n",
       "      <td>NaN</td>\n",
       "      <td>NaN</td>\n",
       "      <td>NaN</td>\n",
       "      <td>NaN</td>\n",
       "      <td>NaN</td>\n",
       "      <td>NaN</td>\n",
       "      <td>2016-01-17</td>\n",
       "      <td>16 days</td>\n",
       "    </tr>\n",
       "    <tr>\n",
       "      <th>1657</th>\n",
       "      <td>2016-01-01</td>\n",
       "      <td>9VY8TCAV</td>\n",
       "      <td>ST3160318AS</td>\n",
       "      <td>7.907120e-313</td>\n",
       "      <td>0</td>\n",
       "      <td>111</td>\n",
       "      <td>38605541</td>\n",
       "      <td>NaN</td>\n",
       "      <td>NaN</td>\n",
       "      <td>97</td>\n",
       "      <td>...</td>\n",
       "      <td>NaN</td>\n",
       "      <td>NaN</td>\n",
       "      <td>NaN</td>\n",
       "      <td>NaN</td>\n",
       "      <td>NaN</td>\n",
       "      <td>NaN</td>\n",
       "      <td>NaN</td>\n",
       "      <td>NaN</td>\n",
       "      <td>2016-04-09</td>\n",
       "      <td>99 days</td>\n",
       "    </tr>\n",
       "    <tr>\n",
       "      <th>1895</th>\n",
       "      <td>2016-01-01</td>\n",
       "      <td>W300BG0H</td>\n",
       "      <td>ST4000DM000</td>\n",
       "      <td>1.976651e-311</td>\n",
       "      <td>0</td>\n",
       "      <td>118</td>\n",
       "      <td>190147064</td>\n",
       "      <td>NaN</td>\n",
       "      <td>NaN</td>\n",
       "      <td>91</td>\n",
       "      <td>...</td>\n",
       "      <td>NaN</td>\n",
       "      <td>NaN</td>\n",
       "      <td>NaN</td>\n",
       "      <td>NaN</td>\n",
       "      <td>NaN</td>\n",
       "      <td>NaN</td>\n",
       "      <td>NaN</td>\n",
       "      <td>NaN</td>\n",
       "      <td>2016-04-18</td>\n",
       "      <td>108 days</td>\n",
       "    </tr>\n",
       "    <tr>\n",
       "      <th>2900</th>\n",
       "      <td>2016-01-01</td>\n",
       "      <td>W300J6FX</td>\n",
       "      <td>ST4000DM000</td>\n",
       "      <td>1.976651e-311</td>\n",
       "      <td>0</td>\n",
       "      <td>115</td>\n",
       "      <td>85258376</td>\n",
       "      <td>NaN</td>\n",
       "      <td>NaN</td>\n",
       "      <td>92</td>\n",
       "      <td>...</td>\n",
       "      <td>NaN</td>\n",
       "      <td>NaN</td>\n",
       "      <td>NaN</td>\n",
       "      <td>NaN</td>\n",
       "      <td>NaN</td>\n",
       "      <td>NaN</td>\n",
       "      <td>NaN</td>\n",
       "      <td>NaN</td>\n",
       "      <td>2016-04-09</td>\n",
       "      <td>99 days</td>\n",
       "    </tr>\n",
       "    <tr>\n",
       "      <th>3204</th>\n",
       "      <td>2016-01-01</td>\n",
       "      <td>Z3014A4S</td>\n",
       "      <td>ST4000DM000</td>\n",
       "      <td>1.976651e-311</td>\n",
       "      <td>0</td>\n",
       "      <td>116</td>\n",
       "      <td>101976792</td>\n",
       "      <td>NaN</td>\n",
       "      <td>NaN</td>\n",
       "      <td>91</td>\n",
       "      <td>...</td>\n",
       "      <td>NaN</td>\n",
       "      <td>NaN</td>\n",
       "      <td>NaN</td>\n",
       "      <td>NaN</td>\n",
       "      <td>NaN</td>\n",
       "      <td>NaN</td>\n",
       "      <td>NaN</td>\n",
       "      <td>NaN</td>\n",
       "      <td>2016-01-10</td>\n",
       "      <td>9 days</td>\n",
       "    </tr>\n",
       "  </tbody>\n",
       "</table>\n",
       "<p>5 rows × 93 columns</p>\n",
       "</div>"
      ],
      "text/plain": [
       "           date serial_number        model  capacity_bytes  failure  \\\n",
       "376  2016-01-01      Z300ZST1  ST4000DM000   1.976651e-311        0   \n",
       "1657 2016-01-01      9VY8TCAV  ST3160318AS   7.907120e-313        0   \n",
       "1895 2016-01-01      W300BG0H  ST4000DM000   1.976651e-311        0   \n",
       "2900 2016-01-01      W300J6FX  ST4000DM000   1.976651e-311        0   \n",
       "3204 2016-01-01      Z3014A4S  ST4000DM000   1.976651e-311        0   \n",
       "\n",
       "      smart_1_normalized  smart_1_raw  smart_2_normalized  smart_2_raw  \\\n",
       "376                  120    240872800                 NaN          NaN   \n",
       "1657                 111     38605541                 NaN          NaN   \n",
       "1895                 118    190147064                 NaN          NaN   \n",
       "2900                 115     85258376                 NaN          NaN   \n",
       "3204                 116    101976792                 NaN          NaN   \n",
       "\n",
       "      smart_3_normalized  ...  smart_250_normalized  smart_250_raw  \\\n",
       "376                   91  ...                   NaN            NaN   \n",
       "1657                  97  ...                   NaN            NaN   \n",
       "1895                  91  ...                   NaN            NaN   \n",
       "2900                  92  ...                   NaN            NaN   \n",
       "3204                  91  ...                   NaN            NaN   \n",
       "\n",
       "      smart_251_normalized  smart_251_raw  smart_252_normalized  \\\n",
       "376                    NaN            NaN                   NaN   \n",
       "1657                   NaN            NaN                   NaN   \n",
       "1895                   NaN            NaN                   NaN   \n",
       "2900                   NaN            NaN                   NaN   \n",
       "3204                   NaN            NaN                   NaN   \n",
       "\n",
       "      smart_252_raw  smart_254_normalized  smart_254_raw   end_date  date_diff  \n",
       "376             NaN                   NaN            NaN 2016-01-17    16 days  \n",
       "1657            NaN                   NaN            NaN 2016-04-09    99 days  \n",
       "1895            NaN                   NaN            NaN 2016-04-18   108 days  \n",
       "2900            NaN                   NaN            NaN 2016-04-09    99 days  \n",
       "3204            NaN                   NaN            NaN 2016-01-10     9 days  \n",
       "\n",
       "[5 rows x 93 columns]"
      ]
     },
     "execution_count": 12,
     "metadata": {},
     "output_type": "execute_result"
    }
   ],
   "source": [
    "df.head()"
   ]
  },
  {
   "cell_type": "code",
   "execution_count": 13,
   "id": "2cac09f5",
   "metadata": {
    "execution": {
     "iopub.execute_input": "2021-11-14T17:34:49.669272Z",
     "iopub.status.busy": "2021-11-14T17:34:49.668373Z",
     "iopub.status.idle": "2021-11-14T17:34:49.680218Z",
     "shell.execute_reply": "2021-11-14T17:34:49.680748Z",
     "shell.execute_reply.started": "2021-11-14T10:03:34.629748Z"
    },
    "papermill": {
     "duration": 0.035184,
     "end_time": "2021-11-14T17:34:49.680917",
     "exception": false,
     "start_time": "2021-11-14T17:34:49.645733",
     "status": "completed"
    },
    "tags": []
   },
   "outputs": [
    {
     "data": {
      "text/plain": [
       "date                       0\n",
       "serial_number              0\n",
       "model                      0\n",
       "capacity_bytes             0\n",
       "failure                    0\n",
       "                        ... \n",
       "smart_252_raw           4973\n",
       "smart_254_normalized    4921\n",
       "smart_254_raw           4921\n",
       "end_date                   0\n",
       "date_diff                  0\n",
       "Length: 93, dtype: int64"
      ]
     },
     "execution_count": 13,
     "metadata": {},
     "output_type": "execute_result"
    }
   ],
   "source": [
    "df.isnull().sum()"
   ]
  },
  {
   "cell_type": "code",
   "execution_count": 14,
   "id": "d4641f16",
   "metadata": {
    "execution": {
     "iopub.execute_input": "2021-11-14T17:34:49.726900Z",
     "iopub.status.busy": "2021-11-14T17:34:49.726300Z",
     "iopub.status.idle": "2021-11-14T17:34:49.732009Z",
     "shell.execute_reply": "2021-11-14T17:34:49.732425Z",
     "shell.execute_reply.started": "2021-11-14T10:03:34.644681Z"
    },
    "papermill": {
     "duration": 0.032044,
     "end_time": "2021-11-14T17:34:49.732765",
     "exception": false,
     "start_time": "2021-11-14T17:34:49.700721",
     "status": "completed"
    },
    "tags": []
   },
   "outputs": [
    {
     "data": {
      "text/plain": [
       "(18, 93)"
      ]
     },
     "execution_count": 14,
     "metadata": {},
     "output_type": "execute_result"
    }
   ],
   "source": [
    "df[df[\"serial_number\"]=='Z300ZST1'].shape"
   ]
  },
  {
   "cell_type": "code",
   "execution_count": 15,
   "id": "11eb5fa5",
   "metadata": {
    "execution": {
     "iopub.execute_input": "2021-11-14T17:34:49.816387Z",
     "iopub.status.busy": "2021-11-14T17:34:49.815389Z",
     "iopub.status.idle": "2021-11-14T17:34:49.825729Z",
     "shell.execute_reply": "2021-11-14T17:34:49.826170Z",
     "shell.execute_reply.started": "2021-11-14T10:03:34.656078Z"
    },
    "papermill": {
     "duration": 0.033718,
     "end_time": "2021-11-14T17:34:49.826380",
     "exception": false,
     "start_time": "2021-11-14T17:34:49.792662",
     "status": "completed"
    },
    "tags": []
   },
   "outputs": [],
   "source": [
    "df_notna = df[df.columns[~(df.isna().sum().values/len(df) > 0.05)]]"
   ]
  },
  {
   "cell_type": "code",
   "execution_count": 16,
   "id": "90a47acf",
   "metadata": {
    "execution": {
     "iopub.execute_input": "2021-11-14T17:34:49.869863Z",
     "iopub.status.busy": "2021-11-14T17:34:49.868941Z",
     "iopub.status.idle": "2021-11-14T17:34:49.881281Z",
     "shell.execute_reply": "2021-11-14T17:34:49.881914Z",
     "shell.execute_reply.started": "2021-11-14T10:03:34.677723Z"
    },
    "papermill": {
     "duration": 0.035874,
     "end_time": "2021-11-14T17:34:49.882092",
     "exception": false,
     "start_time": "2021-11-14T17:34:49.846218",
     "status": "completed"
    },
    "tags": []
   },
   "outputs": [
    {
     "name": "stderr",
     "output_type": "stream",
     "text": [
      "/tmp/ipykernel_3079/748473798.py:1: SettingWithCopyWarning: \n",
      "A value is trying to be set on a copy of a slice from a DataFrame\n",
      "\n",
      "See the caveats in the documentation: https://pandas.pydata.org/pandas-docs/stable/user_guide/indexing.html#returning-a-view-versus-a-copy\n",
      "  df_notna.dropna(inplace=True)\n"
     ]
    }
   ],
   "source": [
    "df_notna.dropna(inplace=True)"
   ]
  },
  {
   "cell_type": "code",
   "execution_count": 17,
   "id": "d5f3b3f1",
   "metadata": {
    "execution": {
     "iopub.execute_input": "2021-11-14T17:34:49.926385Z",
     "iopub.status.busy": "2021-11-14T17:34:49.925429Z",
     "iopub.status.idle": "2021-11-14T17:34:49.930075Z",
     "shell.execute_reply": "2021-11-14T17:34:49.930473Z",
     "shell.execute_reply.started": "2021-11-14T10:03:34.690241Z"
    },
    "papermill": {
     "duration": 0.028053,
     "end_time": "2021-11-14T17:34:49.930683",
     "exception": false,
     "start_time": "2021-11-14T17:34:49.902630",
     "status": "completed"
    },
    "tags": []
   },
   "outputs": [],
   "source": [
    "df = df_notna.copy()"
   ]
  },
  {
   "cell_type": "code",
   "execution_count": 18,
   "id": "5f035c4a",
   "metadata": {
    "execution": {
     "iopub.execute_input": "2021-11-14T17:34:49.974748Z",
     "iopub.status.busy": "2021-11-14T17:34:49.973843Z",
     "iopub.status.idle": "2021-11-14T17:34:49.977648Z",
     "shell.execute_reply": "2021-11-14T17:34:49.978033Z",
     "shell.execute_reply.started": "2021-11-14T10:03:34.696587Z"
    },
    "papermill": {
     "duration": 0.027176,
     "end_time": "2021-11-14T17:34:49.978206",
     "exception": false,
     "start_time": "2021-11-14T17:34:49.951030",
     "status": "completed"
    },
    "tags": []
   },
   "outputs": [],
   "source": [
    "df.reset_index(inplace=True, drop=True)"
   ]
  },
  {
   "cell_type": "code",
   "execution_count": 19,
   "id": "1e40ef69",
   "metadata": {
    "execution": {
     "iopub.execute_input": "2021-11-14T17:34:50.022397Z",
     "iopub.status.busy": "2021-11-14T17:34:50.021441Z",
     "iopub.status.idle": "2021-11-14T17:34:50.031715Z",
     "shell.execute_reply": "2021-11-14T17:34:50.032191Z",
     "shell.execute_reply.started": "2021-11-14T10:03:34.706414Z"
    },
    "papermill": {
     "duration": 0.034007,
     "end_time": "2021-11-14T17:34:50.032359",
     "exception": false,
     "start_time": "2021-11-14T17:34:49.998352",
     "status": "completed"
    },
    "tags": []
   },
   "outputs": [
    {
     "data": {
      "text/plain": [
       "date                    0\n",
       "serial_number           0\n",
       "model                   0\n",
       "capacity_bytes          0\n",
       "failure                 0\n",
       "smart_1_normalized      0\n",
       "smart_1_raw             0\n",
       "smart_3_normalized      0\n",
       "smart_3_raw             0\n",
       "smart_4_normalized      0\n",
       "smart_4_raw             0\n",
       "smart_5_normalized      0\n",
       "smart_5_raw             0\n",
       "smart_7_normalized      0\n",
       "smart_7_raw             0\n",
       "smart_9_normalized      0\n",
       "smart_9_raw             0\n",
       "smart_10_normalized     0\n",
       "smart_10_raw            0\n",
       "smart_12_normalized     0\n",
       "smart_12_raw            0\n",
       "smart_188_raw           0\n",
       "smart_192_normalized    0\n",
       "smart_192_raw           0\n",
       "smart_193_normalized    0\n",
       "smart_193_raw           0\n",
       "smart_194_normalized    0\n",
       "smart_194_raw           0\n",
       "smart_197_normalized    0\n",
       "smart_197_raw           0\n",
       "smart_198_normalized    0\n",
       "smart_198_raw           0\n",
       "smart_199_normalized    0\n",
       "smart_199_raw           0\n",
       "smart_240_raw           0\n",
       "smart_241_raw           0\n",
       "smart_242_raw           0\n",
       "end_date                0\n",
       "date_diff               0\n",
       "dtype: int64"
      ]
     },
     "execution_count": 19,
     "metadata": {},
     "output_type": "execute_result"
    }
   ],
   "source": [
    "df.isnull().sum()"
   ]
  },
  {
   "cell_type": "code",
   "execution_count": 20,
   "id": "16331f8e",
   "metadata": {
    "execution": {
     "iopub.execute_input": "2021-11-14T17:34:50.077826Z",
     "iopub.status.busy": "2021-11-14T17:34:50.076915Z",
     "iopub.status.idle": "2021-11-14T17:34:50.098315Z",
     "shell.execute_reply": "2021-11-14T17:34:50.098780Z",
     "shell.execute_reply.started": "2021-11-14T10:03:34.724706Z"
    },
    "papermill": {
     "duration": 0.045935,
     "end_time": "2021-11-14T17:34:50.098943",
     "exception": false,
     "start_time": "2021-11-14T17:34:50.053008",
     "status": "completed"
    },
    "tags": []
   },
   "outputs": [
    {
     "data": {
      "text/html": [
       "<div>\n",
       "<style scoped>\n",
       "    .dataframe tbody tr th:only-of-type {\n",
       "        vertical-align: middle;\n",
       "    }\n",
       "\n",
       "    .dataframe tbody tr th {\n",
       "        vertical-align: top;\n",
       "    }\n",
       "\n",
       "    .dataframe thead th {\n",
       "        text-align: right;\n",
       "    }\n",
       "</style>\n",
       "<table border=\"1\" class=\"dataframe\">\n",
       "  <thead>\n",
       "    <tr style=\"text-align: right;\">\n",
       "      <th></th>\n",
       "      <th>date</th>\n",
       "      <th>serial_number</th>\n",
       "      <th>model</th>\n",
       "      <th>capacity_bytes</th>\n",
       "      <th>failure</th>\n",
       "      <th>smart_1_normalized</th>\n",
       "      <th>smart_1_raw</th>\n",
       "      <th>smart_3_normalized</th>\n",
       "      <th>smart_3_raw</th>\n",
       "      <th>smart_4_normalized</th>\n",
       "      <th>...</th>\n",
       "      <th>smart_197_raw</th>\n",
       "      <th>smart_198_normalized</th>\n",
       "      <th>smart_198_raw</th>\n",
       "      <th>smart_199_normalized</th>\n",
       "      <th>smart_199_raw</th>\n",
       "      <th>smart_240_raw</th>\n",
       "      <th>smart_241_raw</th>\n",
       "      <th>smart_242_raw</th>\n",
       "      <th>end_date</th>\n",
       "      <th>date_diff</th>\n",
       "    </tr>\n",
       "  </thead>\n",
       "  <tbody>\n",
       "    <tr>\n",
       "      <th>0</th>\n",
       "      <td>2016-01-01</td>\n",
       "      <td>Z300ZST1</td>\n",
       "      <td>ST4000DM000</td>\n",
       "      <td>1.976651e-311</td>\n",
       "      <td>0</td>\n",
       "      <td>120</td>\n",
       "      <td>240872800</td>\n",
       "      <td>91</td>\n",
       "      <td>0</td>\n",
       "      <td>100</td>\n",
       "      <td>...</td>\n",
       "      <td>0</td>\n",
       "      <td>100</td>\n",
       "      <td>0</td>\n",
       "      <td>200</td>\n",
       "      <td>0</td>\n",
       "      <td>8.206430e-320</td>\n",
       "      <td>1.146406e-313</td>\n",
       "      <td>9.784107e-313</td>\n",
       "      <td>2016-01-17</td>\n",
       "      <td>16 days</td>\n",
       "    </tr>\n",
       "    <tr>\n",
       "      <th>1</th>\n",
       "      <td>2016-01-01</td>\n",
       "      <td>W300BG0H</td>\n",
       "      <td>ST4000DM000</td>\n",
       "      <td>1.976651e-311</td>\n",
       "      <td>0</td>\n",
       "      <td>118</td>\n",
       "      <td>190147064</td>\n",
       "      <td>91</td>\n",
       "      <td>0</td>\n",
       "      <td>100</td>\n",
       "      <td>...</td>\n",
       "      <td>0</td>\n",
       "      <td>100</td>\n",
       "      <td>0</td>\n",
       "      <td>200</td>\n",
       "      <td>0</td>\n",
       "      <td>7.857538e-310</td>\n",
       "      <td>1.249659e-313</td>\n",
       "      <td>6.394443e-313</td>\n",
       "      <td>2016-04-18</td>\n",
       "      <td>108 days</td>\n",
       "    </tr>\n",
       "    <tr>\n",
       "      <th>2</th>\n",
       "      <td>2016-01-01</td>\n",
       "      <td>W300J6FX</td>\n",
       "      <td>ST4000DM000</td>\n",
       "      <td>1.976651e-311</td>\n",
       "      <td>0</td>\n",
       "      <td>115</td>\n",
       "      <td>85258376</td>\n",
       "      <td>92</td>\n",
       "      <td>0</td>\n",
       "      <td>100</td>\n",
       "      <td>...</td>\n",
       "      <td>0</td>\n",
       "      <td>100</td>\n",
       "      <td>0</td>\n",
       "      <td>200</td>\n",
       "      <td>0</td>\n",
       "      <td>1.000186e-319</td>\n",
       "      <td>1.324438e-313</td>\n",
       "      <td>6.040397e-313</td>\n",
       "      <td>2016-04-09</td>\n",
       "      <td>99 days</td>\n",
       "    </tr>\n",
       "    <tr>\n",
       "      <th>3</th>\n",
       "      <td>2016-01-01</td>\n",
       "      <td>Z3014A4S</td>\n",
       "      <td>ST4000DM000</td>\n",
       "      <td>1.976651e-311</td>\n",
       "      <td>0</td>\n",
       "      <td>116</td>\n",
       "      <td>101976792</td>\n",
       "      <td>91</td>\n",
       "      <td>0</td>\n",
       "      <td>100</td>\n",
       "      <td>...</td>\n",
       "      <td>8</td>\n",
       "      <td>100</td>\n",
       "      <td>8</td>\n",
       "      <td>200</td>\n",
       "      <td>0</td>\n",
       "      <td>8.351192e-320</td>\n",
       "      <td>1.063035e-313</td>\n",
       "      <td>1.019657e-312</td>\n",
       "      <td>2016-01-10</td>\n",
       "      <td>9 days</td>\n",
       "    </tr>\n",
       "    <tr>\n",
       "      <th>4</th>\n",
       "      <td>2016-01-01</td>\n",
       "      <td>Z4D045CF</td>\n",
       "      <td>ST6000DX000</td>\n",
       "      <td>2.964974e-311</td>\n",
       "      <td>0</td>\n",
       "      <td>116</td>\n",
       "      <td>101694695</td>\n",
       "      <td>88</td>\n",
       "      <td>0</td>\n",
       "      <td>100</td>\n",
       "      <td>...</td>\n",
       "      <td>0</td>\n",
       "      <td>100</td>\n",
       "      <td>0</td>\n",
       "      <td>200</td>\n",
       "      <td>0</td>\n",
       "      <td>9.331476e-310</td>\n",
       "      <td>1.260229e-313</td>\n",
       "      <td>1.176377e-310</td>\n",
       "      <td>2016-04-05</td>\n",
       "      <td>95 days</td>\n",
       "    </tr>\n",
       "  </tbody>\n",
       "</table>\n",
       "<p>5 rows × 39 columns</p>\n",
       "</div>"
      ],
      "text/plain": [
       "        date serial_number        model  capacity_bytes  failure  \\\n",
       "0 2016-01-01      Z300ZST1  ST4000DM000   1.976651e-311        0   \n",
       "1 2016-01-01      W300BG0H  ST4000DM000   1.976651e-311        0   \n",
       "2 2016-01-01      W300J6FX  ST4000DM000   1.976651e-311        0   \n",
       "3 2016-01-01      Z3014A4S  ST4000DM000   1.976651e-311        0   \n",
       "4 2016-01-01      Z4D045CF  ST6000DX000   2.964974e-311        0   \n",
       "\n",
       "   smart_1_normalized  smart_1_raw  smart_3_normalized  smart_3_raw  \\\n",
       "0                 120    240872800                  91            0   \n",
       "1                 118    190147064                  91            0   \n",
       "2                 115     85258376                  92            0   \n",
       "3                 116    101976792                  91            0   \n",
       "4                 116    101694695                  88            0   \n",
       "\n",
       "   smart_4_normalized  ...  smart_197_raw  smart_198_normalized  \\\n",
       "0                 100  ...              0                   100   \n",
       "1                 100  ...              0                   100   \n",
       "2                 100  ...              0                   100   \n",
       "3                 100  ...              8                   100   \n",
       "4                 100  ...              0                   100   \n",
       "\n",
       "   smart_198_raw  smart_199_normalized  smart_199_raw  smart_240_raw  \\\n",
       "0              0                   200              0  8.206430e-320   \n",
       "1              0                   200              0  7.857538e-310   \n",
       "2              0                   200              0  1.000186e-319   \n",
       "3              8                   200              0  8.351192e-320   \n",
       "4              0                   200              0  9.331476e-310   \n",
       "\n",
       "   smart_241_raw  smart_242_raw   end_date  date_diff  \n",
       "0  1.146406e-313  9.784107e-313 2016-01-17    16 days  \n",
       "1  1.249659e-313  6.394443e-313 2016-04-18   108 days  \n",
       "2  1.324438e-313  6.040397e-313 2016-04-09    99 days  \n",
       "3  1.063035e-313  1.019657e-312 2016-01-10     9 days  \n",
       "4  1.260229e-313  1.176377e-310 2016-04-05    95 days  \n",
       "\n",
       "[5 rows x 39 columns]"
      ]
     },
     "execution_count": 20,
     "metadata": {},
     "output_type": "execute_result"
    }
   ],
   "source": [
    "df.head()"
   ]
  },
  {
   "cell_type": "code",
   "execution_count": 21,
   "id": "659691b7",
   "metadata": {
    "execution": {
     "iopub.execute_input": "2021-11-14T17:34:50.185904Z",
     "iopub.status.busy": "2021-11-14T17:34:50.184999Z",
     "iopub.status.idle": "2021-11-14T17:34:50.207029Z",
     "shell.execute_reply": "2021-11-14T17:34:50.206462Z",
     "shell.execute_reply.started": "2021-11-14T10:03:34.798907Z"
    },
    "papermill": {
     "duration": 0.045881,
     "end_time": "2021-11-14T17:34:50.207167",
     "exception": false,
     "start_time": "2021-11-14T17:34:50.161286",
     "status": "completed"
    },
    "tags": []
   },
   "outputs": [
    {
     "data": {
      "text/html": [
       "<div>\n",
       "<style scoped>\n",
       "    .dataframe tbody tr th:only-of-type {\n",
       "        vertical-align: middle;\n",
       "    }\n",
       "\n",
       "    .dataframe tbody tr th {\n",
       "        vertical-align: top;\n",
       "    }\n",
       "\n",
       "    .dataframe thead th {\n",
       "        text-align: right;\n",
       "    }\n",
       "</style>\n",
       "<table border=\"1\" class=\"dataframe\">\n",
       "  <thead>\n",
       "    <tr style=\"text-align: right;\">\n",
       "      <th></th>\n",
       "      <th>capacity_bytes</th>\n",
       "      <th>failure</th>\n",
       "      <th>smart_1_normalized</th>\n",
       "      <th>smart_1_raw</th>\n",
       "      <th>smart_3_normalized</th>\n",
       "      <th>smart_3_raw</th>\n",
       "      <th>smart_4_normalized</th>\n",
       "      <th>smart_4_raw</th>\n",
       "      <th>smart_5_normalized</th>\n",
       "      <th>smart_5_raw</th>\n",
       "      <th>...</th>\n",
       "      <th>smart_197_normalized</th>\n",
       "      <th>smart_197_raw</th>\n",
       "      <th>smart_198_normalized</th>\n",
       "      <th>smart_198_raw</th>\n",
       "      <th>smart_199_normalized</th>\n",
       "      <th>smart_199_raw</th>\n",
       "      <th>smart_240_raw</th>\n",
       "      <th>smart_241_raw</th>\n",
       "      <th>smart_242_raw</th>\n",
       "      <th>date_diff</th>\n",
       "    </tr>\n",
       "  </thead>\n",
       "  <tbody>\n",
       "    <tr>\n",
       "      <th>0</th>\n",
       "      <td>1.976651e-311</td>\n",
       "      <td>0</td>\n",
       "      <td>120</td>\n",
       "      <td>240872800</td>\n",
       "      <td>91</td>\n",
       "      <td>0</td>\n",
       "      <td>100</td>\n",
       "      <td>10</td>\n",
       "      <td>100</td>\n",
       "      <td>0</td>\n",
       "      <td>...</td>\n",
       "      <td>100</td>\n",
       "      <td>0</td>\n",
       "      <td>100</td>\n",
       "      <td>0</td>\n",
       "      <td>200</td>\n",
       "      <td>0</td>\n",
       "      <td>8.206430e-320</td>\n",
       "      <td>1.146406e-313</td>\n",
       "      <td>9.784107e-313</td>\n",
       "      <td>16 days</td>\n",
       "    </tr>\n",
       "    <tr>\n",
       "      <th>1</th>\n",
       "      <td>1.976651e-311</td>\n",
       "      <td>0</td>\n",
       "      <td>118</td>\n",
       "      <td>190147064</td>\n",
       "      <td>91</td>\n",
       "      <td>0</td>\n",
       "      <td>100</td>\n",
       "      <td>10</td>\n",
       "      <td>100</td>\n",
       "      <td>0</td>\n",
       "      <td>...</td>\n",
       "      <td>100</td>\n",
       "      <td>0</td>\n",
       "      <td>100</td>\n",
       "      <td>0</td>\n",
       "      <td>200</td>\n",
       "      <td>0</td>\n",
       "      <td>7.857538e-310</td>\n",
       "      <td>1.249659e-313</td>\n",
       "      <td>6.394443e-313</td>\n",
       "      <td>108 days</td>\n",
       "    </tr>\n",
       "    <tr>\n",
       "      <th>2</th>\n",
       "      <td>1.976651e-311</td>\n",
       "      <td>0</td>\n",
       "      <td>115</td>\n",
       "      <td>85258376</td>\n",
       "      <td>92</td>\n",
       "      <td>0</td>\n",
       "      <td>100</td>\n",
       "      <td>8</td>\n",
       "      <td>100</td>\n",
       "      <td>0</td>\n",
       "      <td>...</td>\n",
       "      <td>100</td>\n",
       "      <td>0</td>\n",
       "      <td>100</td>\n",
       "      <td>0</td>\n",
       "      <td>200</td>\n",
       "      <td>0</td>\n",
       "      <td>1.000186e-319</td>\n",
       "      <td>1.324438e-313</td>\n",
       "      <td>6.040397e-313</td>\n",
       "      <td>99 days</td>\n",
       "    </tr>\n",
       "    <tr>\n",
       "      <th>3</th>\n",
       "      <td>1.976651e-311</td>\n",
       "      <td>0</td>\n",
       "      <td>116</td>\n",
       "      <td>101976792</td>\n",
       "      <td>91</td>\n",
       "      <td>0</td>\n",
       "      <td>100</td>\n",
       "      <td>9</td>\n",
       "      <td>100</td>\n",
       "      <td>0</td>\n",
       "      <td>...</td>\n",
       "      <td>100</td>\n",
       "      <td>8</td>\n",
       "      <td>100</td>\n",
       "      <td>8</td>\n",
       "      <td>200</td>\n",
       "      <td>0</td>\n",
       "      <td>8.351192e-320</td>\n",
       "      <td>1.063035e-313</td>\n",
       "      <td>1.019657e-312</td>\n",
       "      <td>9 days</td>\n",
       "    </tr>\n",
       "    <tr>\n",
       "      <th>4</th>\n",
       "      <td>2.964974e-311</td>\n",
       "      <td>0</td>\n",
       "      <td>116</td>\n",
       "      <td>101694695</td>\n",
       "      <td>88</td>\n",
       "      <td>0</td>\n",
       "      <td>100</td>\n",
       "      <td>17</td>\n",
       "      <td>100</td>\n",
       "      <td>0</td>\n",
       "      <td>...</td>\n",
       "      <td>100</td>\n",
       "      <td>0</td>\n",
       "      <td>100</td>\n",
       "      <td>0</td>\n",
       "      <td>200</td>\n",
       "      <td>0</td>\n",
       "      <td>9.331476e-310</td>\n",
       "      <td>1.260229e-313</td>\n",
       "      <td>1.176377e-310</td>\n",
       "      <td>95 days</td>\n",
       "    </tr>\n",
       "  </tbody>\n",
       "</table>\n",
       "<p>5 rows × 35 columns</p>\n",
       "</div>"
      ],
      "text/plain": [
       "   capacity_bytes  failure  smart_1_normalized  smart_1_raw  \\\n",
       "0   1.976651e-311        0                 120    240872800   \n",
       "1   1.976651e-311        0                 118    190147064   \n",
       "2   1.976651e-311        0                 115     85258376   \n",
       "3   1.976651e-311        0                 116    101976792   \n",
       "4   2.964974e-311        0                 116    101694695   \n",
       "\n",
       "   smart_3_normalized  smart_3_raw  smart_4_normalized  smart_4_raw  \\\n",
       "0                  91            0                 100           10   \n",
       "1                  91            0                 100           10   \n",
       "2                  92            0                 100            8   \n",
       "3                  91            0                 100            9   \n",
       "4                  88            0                 100           17   \n",
       "\n",
       "   smart_5_normalized  smart_5_raw  ...  smart_197_normalized  smart_197_raw  \\\n",
       "0                 100            0  ...                   100              0   \n",
       "1                 100            0  ...                   100              0   \n",
       "2                 100            0  ...                   100              0   \n",
       "3                 100            0  ...                   100              8   \n",
       "4                 100            0  ...                   100              0   \n",
       "\n",
       "   smart_198_normalized  smart_198_raw  smart_199_normalized  smart_199_raw  \\\n",
       "0                   100              0                   200              0   \n",
       "1                   100              0                   200              0   \n",
       "2                   100              0                   200              0   \n",
       "3                   100              8                   200              0   \n",
       "4                   100              0                   200              0   \n",
       "\n",
       "   smart_240_raw  smart_241_raw  smart_242_raw  date_diff  \n",
       "0  8.206430e-320  1.146406e-313  9.784107e-313    16 days  \n",
       "1  7.857538e-310  1.249659e-313  6.394443e-313   108 days  \n",
       "2  1.000186e-319  1.324438e-313  6.040397e-313    99 days  \n",
       "3  8.351192e-320  1.063035e-313  1.019657e-312     9 days  \n",
       "4  9.331476e-310  1.260229e-313  1.176377e-310    95 days  \n",
       "\n",
       "[5 rows x 35 columns]"
      ]
     },
     "execution_count": 21,
     "metadata": {},
     "output_type": "execute_result"
    }
   ],
   "source": [
    "df = df.drop(['date', 'serial_number', 'model','end_date'], axis=1)\n",
    "df.head()"
   ]
  },
  {
   "cell_type": "code",
   "execution_count": 22,
   "id": "9bc63d59",
   "metadata": {
    "execution": {
     "iopub.execute_input": "2021-11-14T17:34:50.254351Z",
     "iopub.status.busy": "2021-11-14T17:34:50.253410Z",
     "iopub.status.idle": "2021-11-14T17:34:50.264305Z",
     "shell.execute_reply": "2021-11-14T17:34:50.264765Z",
     "shell.execute_reply.started": "2021-11-14T10:03:34.825951Z"
    },
    "papermill": {
     "duration": 0.036216,
     "end_time": "2021-11-14T17:34:50.264947",
     "exception": false,
     "start_time": "2021-11-14T17:34:50.228731",
     "status": "completed"
    },
    "tags": []
   },
   "outputs": [],
   "source": [
    "Y = df[\"date_diff\"].dt.days\n",
    "X = df.drop([\"date_diff\"],axis=1)\n",
    "X_train, X_test, y_train, y_test = train_test_split(X, Y, test_size=0.33, random_state=42)"
   ]
  },
  {
   "cell_type": "code",
   "execution_count": 23,
   "id": "1f661310",
   "metadata": {
    "execution": {
     "iopub.execute_input": "2021-11-14T17:34:50.312000Z",
     "iopub.status.busy": "2021-11-14T17:34:50.311015Z",
     "iopub.status.idle": "2021-11-14T17:34:53.115145Z",
     "shell.execute_reply": "2021-11-14T17:34:53.115629Z",
     "shell.execute_reply.started": "2021-11-14T10:03:34.847302Z"
    },
    "papermill": {
     "duration": 2.82923,
     "end_time": "2021-11-14T17:34:53.115824",
     "exception": false,
     "start_time": "2021-11-14T17:34:50.286594",
     "status": "completed"
    },
    "tags": []
   },
   "outputs": [
    {
     "data": {
      "text/plain": [
       "['rff.joblib']"
      ]
     },
     "execution_count": 23,
     "metadata": {},
     "output_type": "execute_result"
    }
   ],
   "source": [
    "from sklearn.ensemble import RandomForestRegressor\n",
    "\n",
    "RF_model=RandomForestRegressor(n_estimators=100,random_state=1)\n",
    "RF_model.fit(X_train, y_train)\n",
    "import joblib \n",
    "model_filename = 'rff.joblib'\n",
    "joblib.dump(RF_model, model_filename)"
   ]
  },
  {
   "cell_type": "code",
   "execution_count": 24,
   "id": "19667369",
   "metadata": {
    "execution": {
     "iopub.execute_input": "2021-11-14T17:34:53.164370Z",
     "iopub.status.busy": "2021-11-14T17:34:53.163419Z",
     "iopub.status.idle": "2021-11-14T17:34:53.262188Z",
     "shell.execute_reply": "2021-11-14T17:34:53.261677Z",
     "shell.execute_reply.started": "2021-11-14T10:06:19.308997Z"
    },
    "papermill": {
     "duration": 0.123911,
     "end_time": "2021-11-14T17:34:53.262317",
     "exception": false,
     "start_time": "2021-11-14T17:34:53.138406",
     "status": "completed"
    },
    "tags": []
   },
   "outputs": [
    {
     "data": {
      "text/plain": [
       "0.9778294265198173"
      ]
     },
     "execution_count": 24,
     "metadata": {},
     "output_type": "execute_result"
    }
   ],
   "source": [
    "y_pred = RF_model.predict(X_test)\n",
    "RF_model.score(X_test, y_test)"
   ]
  }
 ],
 "metadata": {
  "kernelspec": {
   "display_name": "Python 3",
   "language": "python",
   "name": "python3"
  },
  "language_info": {
   "codemirror_mode": {
    "name": "ipython",
    "version": 3
   },
   "file_extension": ".py",
   "mimetype": "text/x-python",
   "name": "python",
   "nbconvert_exporter": "python",
   "pygments_lexer": "ipython3",
   "version": "3.11.8"
  },
  "papermill": {
   "default_parameters": {},
   "duration": 58.814864,
   "end_time": "2021-11-14T17:34:54.495473",
   "environment_variables": {},
   "exception": null,
   "input_path": "__notebook__.ipynb",
   "output_path": "__notebook__.ipynb",
   "parameters": {},
   "start_time": "2021-11-14T17:33:55.680609",
   "version": "2.3.3"
  }
 },
 "nbformat": 4,
 "nbformat_minor": 5
}
